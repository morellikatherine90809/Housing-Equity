{
 "cells": [
  {
   "cell_type": "markdown",
   "id": "0906cbeb-25e2-4a2c-8b20-bc92106e9b61",
   "metadata": {},
   "source": [
    "Determine significance between proportions of successful clients. Used SQL to determine total number of clients in each condition and number of clients in each condition that were successful. Codition 1: 328 total clients and 140 successful clients, proportion of 0.427 condition 1 clients were successful. Condition 2: 58 total clients and 26 successful clients, proportion of 0.449 condition 2 clients were successful. z-test selected to compare proportions because the total clients in each condition are very different from each other. a = 0.05, p-value less than 0.05 shows a significant difference in the proportion of successful clients from each condition, indicating inequitable distribution of resources for success."
   ]
  },
  {
   "cell_type": "code",
   "execution_count": 1,
   "id": "7258185c-d74a-4a91-b35f-24e7b4db9622",
   "metadata": {},
   "outputs": [],
   "source": [
    "#import libraries required to create arrays for z-test and to conduct z-test\n",
    "import numpy as np\n",
    "from statsmodels.stats.proportion import proportions_ztest as ztest"
   ]
  },
  {
   "cell_type": "code",
   "execution_count": 3,
   "id": "a2f5db03-25ac-4857-8895-47b43ee4ffa0",
   "metadata": {},
   "outputs": [
    {
     "name": "stdout",
     "output_type": "stream",
     "text": [
      "-0.3041147694664715 0.7610404550186577\n"
     ]
    }
   ],
   "source": [
    "#arrays created\n",
    "successful = np.array([140, 26])\n",
    "totals = np.array([328, 58])\n",
    "#z-test conducted\n",
    "stat, p_value = ztest(successful, totals)\n",
    "#results printed\n",
    "print(stat, p_value)"
   ]
  },
  {
   "cell_type": "markdown",
   "id": "aced1e5b-8c56-4821-9c1a-416dc67c1786",
   "metadata": {},
   "source": [
    "p-value >> 0.05. There is no significant difference in the proportion of successful clients between the conditions, cannot reject the null: resources for success appear equitably distributed."
   ]
  },
  {
   "cell_type": "markdown",
   "id": "7cac55df-25ea-48e6-a585-4408b5a1b772",
   "metadata": {},
   "source": [
    "# Appendix: SQL <br>\n",
    "SELECT <br>\n",
    "    <blockquote> \n",
    "     (SELECT COUNT(ClientID) <br>\n",
    "     FROM data <br>\n",
    "     WHERE Condition1 = 'Yes' AND Successful= 'Yes') AS Condition1Successful, <br>\n",
    "     (SELECT COUNT(ClientID) <br>\n",
    "     FROM data <br>\n",
    "     WHERE Condition1 = 'Yes') AS TotalCondition1, <br>\n",
    "     (Condition1Successful / TotalCondition1)*100 AS PercCondition1Successful, <br>\n",
    "     (SELECT COUNT(ClientID) <br>\n",
    "     FROM data <br>\n",
    "     WHERE Condition2 = 'Yes' AND Successful = 'Yes') AS Condition2Successful, <br>\n",
    "     (SELECT COUNT(ClientID) <br>\n",
    "     FROM data <br>\n",
    "     WHERE Condition2 = 'Yes') AS TotalCondition2, <br>\n",
    "     (Condition2Successful / TotalCondition2)*100 AS PerCondition2Successful <br>\n",
    "     </blockquote>\n",
    "FROM data <br>\n",
    ";"
   ]
  },
  {
   "cell_type": "code",
   "execution_count": null,
   "id": "4c7d4db1-e0fb-4b69-ad1e-dc25177cf89a",
   "metadata": {},
   "outputs": [],
   "source": []
  }
 ],
 "metadata": {
  "kernelspec": {
   "display_name": "Python 3 (ipykernel)",
   "language": "python",
   "name": "python3"
  },
  "language_info": {
   "codemirror_mode": {
    "name": "ipython",
    "version": 3
   },
   "file_extension": ".py",
   "mimetype": "text/x-python",
   "name": "python",
   "nbconvert_exporter": "python",
   "pygments_lexer": "ipython3",
   "version": "3.11.9"
  }
 },
 "nbformat": 4,
 "nbformat_minor": 5
}
