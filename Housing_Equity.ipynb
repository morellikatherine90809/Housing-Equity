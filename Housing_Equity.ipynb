{
 "cells": [
  {
   "cell_type": "markdown",
   "id": "0906cbeb-25e2-4a2c-8b20-bc92106e9b61",
   "metadata": {},
   "source": [
    "Determine significance between proportions of housed clients. Used SQL to determine total number of clients in from each region and number of clients in from each region that were housed. Region 1: 328 total clients and 140 housed clients, proportion of 0.427 region 1 clients were housed. Region 2: 58 total clients and 26 housed clients, proportion of 0.449 region 2 clients were housed. z-test selected to compare proportions because the total clients from each region are very different from each other and each total is quite small. a = 0.05, p-value less than 0.05 shows a significant difference in the proportion of housed clients from each region, indicating inequitable housing outcomes."
   ]
  },
  {
   "cell_type": "code",
   "execution_count": 1,
   "id": "7258185c-d74a-4a91-b35f-24e7b4db9622",
   "metadata": {},
   "outputs": [],
   "source": [
    "#import libraries required to create arrays for z-test and to conduct z-test\n",
    "import numpy as np\n",
    "from statsmodels.stats.proportion import proportions_ztest as ztest"
   ]
  },
  {
   "cell_type": "code",
   "execution_count": 2,
   "id": "a2f5db03-25ac-4857-8895-47b43ee4ffa0",
   "metadata": {},
   "outputs": [
    {
     "name": "stdout",
     "output_type": "stream",
     "text": [
      "-0.3041147694664715 0.7610404550186577\n"
     ]
    }
   ],
   "source": [
    "#arrays created\n",
    "housed = np.array([140, 26])\n",
    "totals = np.array([328, 58])\n",
    "#z-test conducted\n",
    "stat, p_value = ztest(housed, totals)\n",
    "#results printed\n",
    "print(stat, p_value)"
   ]
  },
  {
   "cell_type": "markdown",
   "id": "aced1e5b-8c56-4821-9c1a-416dc67c1786",
   "metadata": {},
   "source": [
    "p-value >> 0.05. There is no significant difference in the proportion of successful clients between the conditions, cannot reject the null: resources for success appear equitably distributed."
   ]
  },
  {
   "cell_type": "markdown",
   "id": "7cac55df-25ea-48e6-a585-4408b5a1b772",
   "metadata": {},
   "source": [
    "# Appendix: SQL <br>\n",
    "SELECT <br>\n",
    "    <blockquote> \n",
    "     (SELECT COUNT(ClientID) <br>\n",
    "     FROM data <br>\n",
    "     WHERE Region1 = 'Yes' AND Housed = 'Yes') AS Region1Housed, <br>\n",
    "     (SELECT COUNT(ClientID) <br>\n",
    "     FROM data <br>\n",
    "     WHERE Region1 = 'Yes') AS TotalRegion1, <br>\n",
    "     (Region1Housed / TotalRegion1)*100 AS PercRegion1Housed, <br>\n",
    "     (SELECT COUNT(ClientID) <br>\n",
    "     FROM data <br>\n",
    "     WHERE Region2 = 'Yes' AND Housed = 'Yes') AS Region2Housed, <br>\n",
    "     (SELECT COUNT(ClientID) <br>\n",
    "     FROM data <br>\n",
    "     WHERE Region2 = 'Yes') AS TotalRegion2, <br>\n",
    "     (Region2Housed / TotalRegion2)*100 AS PercRegion2Housed <br>\n",
    "     </blockquote>\n",
    "FROM data <br>\n",
    ";"
   ]
  },
  {
   "cell_type": "code",
   "execution_count": null,
   "id": "abf811fd-96f2-420c-9fb2-b2e6dd62015d",
   "metadata": {},
   "outputs": [],
   "source": []
  }
 ],
 "metadata": {
  "kernelspec": {
   "display_name": "Python 3 (ipykernel)",
   "language": "python",
   "name": "python3"
  },
  "language_info": {
   "codemirror_mode": {
    "name": "ipython",
    "version": 3
   },
   "file_extension": ".py",
   "mimetype": "text/x-python",
   "name": "python",
   "nbconvert_exporter": "python",
   "pygments_lexer": "ipython3",
   "version": "3.11.9"
  }
 },
 "nbformat": 4,
 "nbformat_minor": 5
}
